{
 "cells": [
  {
   "cell_type": "code",
   "execution_count": null,
   "id": "c174502c",
   "metadata": {},
   "outputs": [],
   "source": [
    "from ase.io import read\n",
    "from mace.calculators import MACECalculator\n",
    "# from mace.calculators import mace_mp\n",
    "import numpy as np\n",
    "\n",
    "# --- 1. Load CoOx structure (replace with your file or construction)\n",
    "atoms = read(\"CoO_1533087.cif\", format='cif')  \n",
    "\n",
    "# --- 2. Attach MACE calculator\n",
    "calc = MACECalculator(model_paths='./mace-omat-0-medium.model', default_dtype='float64')\n",
    "# calc = mace_mp(model='medium', default_dtype='float64')\n",
    "atoms.calc = calc "
   ]
  },
  {
   "cell_type": "code",
   "execution_count": null,
   "id": "edfb4ea8",
   "metadata": {},
   "outputs": [],
   "source": [
    "from phonopy.structure.atoms import PhonopyAtoms\n",
    "\n",
    "# --- 3. Convert ASE Atoms to PhonopyAtoms\n",
    "def ase_to_phonopy_atoms(ase_atoms):\n",
    "    return PhonopyAtoms(symbols=ase_atoms.get_chemical_symbols(),\n",
    "                        positions=ase_atoms.get_positions(),\n",
    "                        cell=np.array(atoms.cell),\n",
    "                        masses=ase_atoms.get_masses())\n",
    "\n",
    "unitcell = ase_to_phonopy_atoms(atoms)"
   ]
  },
  {
   "cell_type": "code",
   "execution_count": null,
   "id": "0d428768",
   "metadata": {},
   "outputs": [],
   "source": [
    "from ase.visualize import view \n",
    "\n",
    "view(atoms, viewer='x3d')"
   ]
  },
  {
   "cell_type": "code",
   "execution_count": null,
   "id": "42338edf",
   "metadata": {},
   "outputs": [],
   "source": [
    "from phonopy import Phonopy\n",
    "\n",
    "# --- 4. Define supercell and create Phonopy object\n",
    "supercell_matrix = [[2, 0, 0],\n",
    "                    [0, 2, 0],\n",
    "                    [0, 0, 2]]  # Can be larger if needed\n",
    "\n",
    "phonon = Phonopy(unitcell, supercell_matrix)\n",
    "phonon.generate_displacements(distance=0.01)"
   ]
  },
  {
   "cell_type": "code",
   "execution_count": null,
   "id": "37ff7277",
   "metadata": {},
   "outputs": [],
   "source": [
    "# --- 5. Get list of displaced supercells\n",
    "supercells = phonon.supercells_with_displacements \n",
    "len(supercells)"
   ]
  },
  {
   "cell_type": "code",
   "execution_count": null,
   "id": "87ab5ae7",
   "metadata": {},
   "outputs": [],
   "source": [
    "from ase import Atoms \n",
    "# --- 6. Evaluate forces for each displaced structure\n",
    "forces = []\n",
    "for i, sc in enumerate(supercells):\n",
    "    # Convert PhonopyAtoms to ASE Atoms\n",
    "    ase_supercell = Atoms(\n",
    "        symbols=sc.symbols,\n",
    "        positions=sc.positions,\n",
    "        cell=sc.cell,\n",
    "        pbc=True,\n",
    "    )\n",
    "    ase_supercell.calc = atoms.calc\n",
    "    f = ase_supercell.get_forces()\n",
    "    forces.append(f)\n",
    "\n",
    "# --- 7. Set forces and calculate force constants\n",
    "phonon.forces = forces\n",
    "phonon.produce_force_constants()"
   ]
  },
  {
   "cell_type": "code",
   "execution_count": null,
   "id": "b5c33e33",
   "metadata": {},
   "outputs": [],
   "source": [
    "import matplotlib.pyplot as plt\n",
    "%matplotlib widget\n",
    "\n",
    "fig = plt.figure()\n",
    "ax = fig.add_subplot()\n",
    "\n",
    "for i in range(1,6):\n",
    "    # Optional: Plot phonon DOS\n",
    "    phonon.run_mesh([10*i, 10*i, 10*i])  # Adjust mesh size as needed\n",
    "    phonon.run_total_dos()\n",
    "    dos = phonon.get_total_dos_dict()\n",
    "    frequencies_THz = dos[\"frequency_points\"]\n",
    "    frequencies_recipcm = frequencies_THz * 1e12 / (3e10)  # Convert to reciprocal cm\n",
    "    total_dos = dos[\"total_dos\"]\n",
    "    ax.plot(frequencies_THz, total_dos, label=f\"Mesh {i}\", alpha=i*10/60)\n",
    "\n",
    "ax.set_xlim([0, 18])\n",
    "ax.legend()\n",
    "# ax.set_xlabel(r\"Frequency (cm$^{-1}$)\")\t\n",
    "ax.set_xlabel(r\"Frequency (THz)\")\n",
    "ax.set_ylabel(\"Phonon DOS\")\n",
    "fig.tight_layout()\n",
    "plt.show()"
   ]
  },
  {
   "cell_type": "code",
   "execution_count": null,
   "id": "9d6d5d21",
   "metadata": {},
   "outputs": [],
   "source": [
    "# Generate band structure path (Gamma to X to ...)\n",
    "from phonopy.phonon.band_structure import get_band_qpoints_and_path_connections\n",
    "\n",
    "# Γ\t0.0000000000\t0.0000000000\t0.0000000000\n",
    "# K\t0.3750000000\t0.3750000000\t0.7500000000\n",
    "# L\t0.5000000000\t0.5000000000\t0.5000000000\n",
    "# U\t0.6250000000\t0.2500000000\t0.6250000000\n",
    "# W\t0.5000000000\t0.2500000000\t0.7500000000\n",
    "# W2\t0.7500000000\t0.2500000000\t0.5000000000\n",
    "# X\t0.5000000000\t0.0000000000\t0.5000000000\n",
    "\n",
    "# Γ—X—U|K—Γ—L—W—X\n",
    "\n",
    "path = [\n",
    "    [[0, 0, 0], [0.5, 0, 0.5], [0.625, 0.25, 0.625]],\n",
    "    [[0.375, 0.375, 0.75], [0, 0, 0], [0.5, 0.5, 0.5], [0.5, 0.25, 0.75], [0.5, 0, 0.5]]\n",
    "]\n",
    "labels = [\"Γ\", \"X\", \"U\", \"K\", \"Γ\", \"L\", \"W\", \"X\"]\n",
    "\n",
    "qpoints, connections = get_band_qpoints_and_path_connections(path, npoints=51)\n",
    "\n",
    "phonon.run_band_structure(qpoints, path_connections=connections, labels=labels)\n",
    "phonon.plot_band_structure().show()\n",
    "plt.ylim([0, 18.5])"
   ]
  },
  {
   "cell_type": "code",
   "execution_count": null,
   "id": "9fe8a566",
   "metadata": {},
   "outputs": [],
   "source": []
  }
 ],
 "metadata": {
  "kernelspec": {
   "display_name": "phonopy",
   "language": "python",
   "name": "python3"
  },
  "language_info": {
   "codemirror_mode": {
    "name": "ipython",
    "version": 3
   },
   "file_extension": ".py",
   "mimetype": "text/x-python",
   "name": "python",
   "nbconvert_exporter": "python",
   "pygments_lexer": "ipython3",
   "version": "3.12.0"
  }
 },
 "nbformat": 4,
 "nbformat_minor": 5
}
