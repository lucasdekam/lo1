{
 "cells": [
  {
   "cell_type": "markdown",
   "id": "19867721",
   "metadata": {},
   "source": [
    "# Pourbaix diagram from calculations\n",
    "\n",
    "Looking up values in literature is one way to make a Pourbaix diagram. But what if we're interested in a novel material that has not been tested experimentally yet?\n",
    "\n",
    "In materials science, the goal is often to find new materials with desirable properties. For example: an oxygen evolution catalyst that doesn't corrode at low pH, a battery electrolyte with high ion conductivity, or a battery electrode that doesn't swell during charging. Testing those materials in a lab is time-consuming. The field of computational materials science develops methods to screen many materials with calculations. Only the best materials are tested in the lab.\n",
    "\n",
    "In this part you will learn how to calculate the chemical potential for various materials from scratch, and construct the Pourbaix diagram from the calculated values. \n",
    "\n",
    "## Machine learning potentials\n",
    "\n",
    "The most important contribution to the internal energy $U$ of a material is the energy of the electrons interacting with the nuclei. You can think of this energy as the \"chemical binding energy\". Electrons are best described by quantum mechanics. The field of electronic structure theory develops methods to calculate the behavior of electrons as accurately as possible. Examples of these methods are Hartree-Fock theory and density functional theory. The calculations are very costly: they can take minutes to hours on a supercomputer, depending on the level of accuracy. The figure below shows that a large part of supercomputing facilities is used for such electronic structure calculations. They also require expertise for choosing certain approximation parameters. \n",
    "\n",
    "```{figure} ../../images/csanyi.png\n",
    "---\n",
    "height: 350\n",
    "name: hpc-usage\n",
    "---\n",
    "Usage of the British high-performance computing facility for various tasks. VASP and CP2K are examples of quantum chemistry softwares. Taken from a talk of Gabor Csanyi on [YouTube](https://youtu.be/JxIFxM1f40U?si=8UT6HULgSi8AtwNe). \n",
    "```\n",
    "\n",
    "Often, we don't even need all the electronic structure information. Given a certain atomistic structure we just want to know the energy, and sometimes the forces on the nuclei. In recent years, machine learning models have been developed to predict energies and forces for atomistic structures.\n",
    "\n"
   ]
  },
  {
   "cell_type": "code",
   "execution_count": null,
   "id": "ce61cb95",
   "metadata": {
    "vscode": {
     "languageId": "plaintext"
    }
   },
   "outputs": [],
   "source": []
  }
 ],
 "metadata": {
  "language_info": {
   "name": "python"
  }
 },
 "nbformat": 4,
 "nbformat_minor": 5
}
