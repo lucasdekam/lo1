{
 "cells": [
  {
   "cell_type": "markdown",
   "id": "9e18430c",
   "metadata": {},
   "source": [
    "# Pourbaix diagram from experimental values\n",
    "\n",
    "To calculate a Pourbaix diagram, we need to calculate the energy of the possible phases for different electrode potentials and pH. The phase with the lowest energy is the most stable.\n",
    "\n",
    "\n",
    "## Chemical potential\n",
    "But what do we mean exactly by 'energy'? Let's say the total internal energy of our system is $U$. In electrochemistry, we usually have a fixed temperature $T$ and pressure $p$. We want to exclude the heat and volume work contributions from the environment, so we use the **Gibbs free energy**\n",
    "\n",
    "$$\n",
    "G = U - TS + pV\n",
    "$$\n",
    "\n",
    "with $S$ the entropy and $V$ the volume of the system. You can think of the Gibbs free energy as the 'chemical energy' in the system.\n",
    "\n",
    "Equivalently, we can use the chemical potential $\\mu = G/N$, which is just the Gibbs energy per particle. So: **we want to find the phase with the lowest chemical potential at different electrode potentials and pH**.\n",
    "\n",
    "## Formation energy\n",
    "\n",
    "In general, the chemical potential of a species $i$ is\n",
    "\n",
    "$$\n",
    "\\mu_i = \\mu_i^0 + k_\\mathrm{B} T \\ln a_i\n",
    "$$\n",
    "\n",
    "where $\\mu_i^0$ is the chemical potential at standard conditions and $a_i$ is the activity. For dissolved species, the activity is the same as the concentration in M (assuming relatively low concentrations, which we always have in this case). For solids, $a_i=1$.\n",
    "\n",
    "The standard chemical potential is the same as the standard Gibbs free energy of formation per particle:\n",
    "\n",
    "$$\n",
    "\\mu_i^0 = \\Delta_\\mathrm{f}G_i^0.\n",
    "$$\n",
    "\n",
    "The formation energy of an element in its most stable state at standard conditions (gas for oxygen and hydrogen, solid for metals, etc.) is zero. (The elements are taken as a reference point!) For other species, values can be found online, like in the supplementary material of {cite:t}`wang2020predicting`.\n",
    "\n",
    "Let's get calculating! Collect tabulated values for your solid of interest (and remember that you need to cite the source in your report). The experimental value of water can be found in {cite:t}`persson2012prediction` (section C)."
   ]
  },
  {
   "cell_type": "code",
   "execution_count": null,
   "id": "f0a0a7d5",
   "metadata": {},
   "outputs": [],
   "source": [
    "standard_chemical_potentials = {\n",
    "    \"Fe\": 0,\n",
    "    \"FeO\": -2.553,\n",
    "    \"Fe3O4\": -10.524,\n",
    "    \"Fe2O3\": -7.693,\n",
    "    \"Fe2+\": -0.817,\n",
    "    \"Fe3+\": -0.048,\n",
    "    \"H2O\": -2.46,\n",
    "}"
   ]
  },
  {
   "cell_type": "markdown",
   "id": "dd21c6b6",
   "metadata": {},
   "source": [
    "Now, we calculate the reaction energy of forming each phase from the solid metal phase. A metal oxide, for example, is formed as\n",
    "\n",
    "$$\n",
    "\n",
    "$$"
   ]
  },
  {
   "cell_type": "code",
   "execution_count": null,
   "id": "1e10a374",
   "metadata": {},
   "outputs": [],
   "source": []
  },
  {
   "cell_type": "markdown",
   "id": "c6f9b0e4",
   "metadata": {},
   "source": [
    "\n",
    "```{bibliography}\n",
    ":style: unsrt\n",
    ":filter: docname in docnames\n",
    "```"
   ]
  },
  {
   "cell_type": "markdown",
   "id": "c1902d9d",
   "metadata": {},
   "source": []
  }
 ],
 "metadata": {
  "kernelspec": {
   "display_name": "base",
   "language": "python",
   "name": "python3"
  },
  "language_info": {
   "codemirror_mode": {
    "name": "ipython",
    "version": 3
   },
   "file_extension": ".py",
   "mimetype": "text/x-python",
   "name": "python",
   "nbconvert_exporter": "python",
   "pygments_lexer": "ipython3",
   "version": "3.12.10"
  }
 },
 "nbformat": 4,
 "nbformat_minor": 5
}
